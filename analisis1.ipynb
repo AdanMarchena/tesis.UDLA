{
 "cells": [
  {
   "cell_type": "markdown",
   "id": "33dddf9f",
   "metadata": {},
   "source": [
    "# Análisis de arquetipos inicial\n",
    "\n",
    "Este notebook realiza un análisis de los arquetipos iniciales de la gran nube de Magallanes (LMC) y de la pequeña nube de Magallanes (SMC). Se utilizarán los datos de la tabla de datos del proyecto de tesis.\n",
    "Este proceso será preliminar para entender el funcionamiento del algoritmo y sus aplicaciones."
   ]
  },
  {
   "cell_type": "code",
   "execution_count": 1,
   "id": "a2e10e35",
   "metadata": {},
   "outputs": [],
   "source": [
    "# 1. Librerías\n",
    "import os\n",
    "import glob\n",
    "import numpy as np\n",
    "import pandas as pd\n",
    "from scipy import optimize\n",
    "from scipy.interpolate import interp1d\n",
    "from astropy.timeseries import LombScargle\n",
    "from sklearn.decomposition import PCA\n",
    "from sklearn.preprocessing import StandardScaler\n",
    "import matplotlib.pyplot as plt\n",
    "%matplotlib inline "
   ]
  },
  {
   "cell_type": "code",
   "execution_count": null,
   "id": "2ee49f64",
   "metadata": {},
   "outputs": [],
   "source": [
    "# 2. Utilidades - Leer .dat OGLE\n",
    "\n",
    "def read_dat(filepath): \n",
    "  \"\"\"\n",
    "  Intenta leer columnas numéricas ignorando encabezados.\n",
    "  Devuleve time, mag, err (err puede ser None)\n",
    "  \"\"\"\n",
    "  # Leer ignorando líneas que no inicien con número\n",
    "  data = []\n",
    "  with open(filepath, \"r\", encoding='latin-1') as f:\n",
    "    for line in f:\n",
    "      s = line.strip()\n",
    "      if not s:\n",
    "        continue\n",
    "\n",
    "      # Considerar líneas que comienzan con dígito o signo\n",
    "      if s[0].isdigit() or s[0] in ('-', '+', '.'):\n",
    "        parts = s.split()\n",
    "        # Guardamos si tiene al menos 2 columnas\n",
    "        if len(parts) >= 2:\n",
    "          try:\n",
    "            nums = [float(x) for x in parts[:3]] # Intento 3\n",
    "            data.append(nums)\n",
    "          except:\n",
    "            continue\n",
    "\n",
    "  data = np.array(data)\n",
    "  if data.size == 0:\n",
    "    raise ValueError(f\"No numeric rows found in {filepath}\")\n",
    "  if data.shape[1] == 1:\n",
    "    raise ValueError(f\"Not enough columns in {filepath}\")\n",
    "  time = data[:,0]\n",
    "  mag = data[:,1]\n",
    "  err = data[:,2] if data.shape[1] > 2 else None\n",
    "  return time, mag, err"
   ]
  },
  {
   "cell_type": "code",
   "execution_count": 3,
   "id": "93a2d32e",
   "metadata": {},
   "outputs": [],
   "source": [
    "# 3. Funciones de preprocesado y folding\n",
    "\n",
    "def phase_fold(time, mag, period):\n",
    "  phi = ((time / period)%1.0)\n",
    "  sort_idx = np.argsort(phi)\n",
    "  return phi[sort_idx], mag[sort_idx]\n",
    "\n",
    "def bin_phase(phi, mag, nbins=100):\n",
    "  bins = np.linspace(0,1,nbins+1)\n",
    "  inds = np.digitize(phi, bins)-1\n",
    "  bin_means = np.full(nbins, np.nan)\n",
    "  for i in range(nbins):\n",
    "    sel = inds==i\n",
    "    if sel.any():\n",
    "      bin_means[i] = np.mean(mag[sel])\n",
    "  # Interpolar nan\n",
    "  idx = np.arange(nbins)\n",
    "  good = ~np.isnan(bin_means)\n",
    "  f = interp1d(idx[good], bin_means[good], kind='linear', bounds_error=False, fill_value=\"extrapolate\")\n",
    "  return f(idx)"
   ]
  },
  {
   "cell_type": "code",
   "execution_count": 4,
   "id": "c284ea60",
   "metadata": {},
   "outputs": [],
   "source": [
    "# 4. Ajuste armónico (Fourier) dado período; devuelve coeficientes (a0, a_k, b_k)\n",
    "def fourier_fit(time, mag, period, nharm=4):\n",
    "  # Fase [-pi. pi]\n",
    "  t0 = time.min()\n",
    "  x = 2*np.pi*(time-t0)/period\n",
    "  # Build design\n",
    "  cols = [np.ones_like(x)]\n",
    "  for k in range(1, nharm+1):\n",
    "    cols.append(np.cos(k*x))\n",
    "    cols.append(np.sin(k*x))\n",
    "  A = np.vstack(cols).T\n",
    "  # Solve least squares\n",
    "  coef, *_=np.linalg.lstsq(A, mag, rcond=None)\n",
    "  return coef # lenght = 1 + 2*nharm"
   ]
  },
  {
   "cell_type": "code",
   "execution_count": 5,
   "id": "d45177ce",
   "metadata": {},
   "outputs": [],
   "source": [
    "# 5. Proyección sobre simplex (Duchi et al.)\n",
    "def project_simplex(v):\n",
    "    \"\"\" Proyecta un vector v en el simplex {w: w>=0, sum(w)=1} \"\"\"\n",
    "    if v.size == 0:\n",
    "        return np.array([1.0])  # o vector vacío de salida controlada\n",
    "    v = np.asarray(v)\n",
    "    n = v.shape[0]\n",
    "    u = np.sort(v)[::-1]\n",
    "    cssv = np.cumsum(u)\n",
    "    rho = np.nonzero(u * np.arange(1, n+1) > (cssv - 1))[0]\n",
    "    if len(rho) == 0:\n",
    "        return np.ones_like(v) / n\n",
    "    rho = rho[-1]\n",
    "    theta = (cssv[rho] - 1) / (rho + 1.0)\n",
    "    w = np.maximum(v - theta, 0)\n",
    "    return w"
   ]
  },
  {
   "cell_type": "code",
   "execution_count": 6,
   "id": "f5b11444",
   "metadata": {},
   "outputs": [],
   "source": [
    "# 6. Implementación simple de AA (alternating)\n",
    "def archetypal_analysis(X, K=3, max_iter=200, tol=1e-6, verbose=True):\n",
    "    \"\"\"\n",
    "    X: N x M (N = observaciones, M = variables)\n",
    "    K: número de arquetipos\n",
    "    Returns: S (N x K), C (K x N), A (K x M)\n",
    "    \"\"\"\n",
    "\n",
    "    N, M = X.shape\n",
    "    rng = np.random.RandomState(0)\n",
    "    idx = rng.choice(N, size=K, replace=False)\n",
    "    A = X[idx,:].copy()  # arquetipos iniciales\n",
    "    S = np.zeros((N,K))\n",
    "    C = np.zeros((K,N))\n",
    "    prev_rss = np.inf\n",
    "\n",
    "    for it in range(max_iter):\n",
    "        # --- actualizar S ---\n",
    "        At = A.T  # M x K\n",
    "        ATA = At.T @ At + 1e-8*np.eye(K)\n",
    "        AT = At.T\n",
    "        for n in range(N):\n",
    "            xn = X[n,:]\n",
    "            b = AT @ xn\n",
    "            s_un = np.linalg.solve(ATA, b)\n",
    "            S[n,:] = project_simplex(s_un)\n",
    "\n",
    "        # --- actualizar A ---\n",
    "        StS = S.T @ S + 1e-8*np.eye(K)\n",
    "        A = np.linalg.solve(StS, S.T @ X)\n",
    "\n",
    "        # --- actualizar C ---\n",
    "        for k in range(K):\n",
    "            ak = A[k, :]\n",
    "            sol = np.linalg.lstsq(X.T, ak, rcond=None)[0]\n",
    "            if sol.size == 0:\n",
    "                sol = np.zeros(N)\n",
    "            C[k,:] = project_simplex(sol)\n",
    "\n",
    "        # recomputar A = C X\n",
    "        A = C @ X\n",
    "\n",
    "        # calcular RSS\n",
    "        recon = S @ A\n",
    "        rss = np.linalg.norm(X - recon, ord='fro')**2\n",
    "        if verbose and it % 5 == 0:\n",
    "            print(f\"iter {it}, RSS={rss:.6e}\")\n",
    "        if abs(prev_rss - rss) < tol:\n",
    "            if verbose:\n",
    "                print(f\"Converged iter {it}, RSS={rss:.6e}\")\n",
    "            break\n",
    "        prev_rss = rss\n",
    "\n",
    "    return S, C, A"
   ]
  },
  {
   "cell_type": "code",
   "execution_count": 7,
   "id": "51882969",
   "metadata": {},
   "outputs": [
    {
     "name": "stdout",
     "output_type": "stream",
     "text": [
      "Found 100 .dat files\n",
      "Feature matrix X shape: (46, 9)\n"
     ]
    }
   ],
   "source": [
    "# 7. Pipeline completo para un directorio de .dat\n",
    "input_dir = \"BD/OGLEIV/RR_Lyrae/limpios/prueba\"\n",
    "min_obs = 300\n",
    "period_catalog = {}\n",
    "\n",
    "star_paths = sorted(glob.glob(os.path.join(input_dir, \"*.dat\")))\n",
    "print(f\"Found {len(star_paths)} .dat files\")\n",
    "\n",
    "# Listas para featuries y ids\n",
    "X_list = []\n",
    "ids = []\n",
    "for fp in star_paths:\n",
    "  try:\n",
    "    time, mag, err = read_dat(fp)\n",
    "  except Exception as e:\n",
    "    print(\"Skipping\", fp, \":\", e)\n",
    "    continue\n",
    "  if len(time) < min_obs:\n",
    "    continue\n",
    "  # Optional: get period from catalog; else compute with Lomb-Scargle\n",
    "  # Heurística: si el filename contiene period, intenta extraerlo\n",
    "  star_id = os.path.basename(fp).split('.')[0]\n",
    "  period = period_catalog.get(star_id, None)\n",
    "  if period is None:\n",
    "    # compute period with Lomb-Scargle over plausible RR Lyrae range (0.2 - 1.0 days typical)\n",
    "    freq, power = LombScargle(time, mag).autopower(minimum_frequency=1/3.0, maximum_frequency=5)\n",
    "    bestf = freq[np.argmax(power)]\n",
    "    period = 1.0/bestf\n",
    "  # Elección: Fourier features (recomendado)\n",
    "  coef = fourier_fit(time, mag, period, nharm=4) # yields 1 + 2*4 = 9 features\n",
    "  feat = coef.flatten()\n",
    "  X_list.append(feat)\n",
    "  ids.append(star_id)\n",
    "\n",
    "X = np.vstack(X_list)\n",
    "print(\"Feature matrix X shape:\", X.shape)"
   ]
  },
  {
   "cell_type": "code",
   "execution_count": 8,
   "id": "4259791c",
   "metadata": {},
   "outputs": [
    {
     "name": "stdout",
     "output_type": "stream",
     "text": [
      "Reduced X shape: (46, 9)\n"
     ]
    }
   ],
   "source": [
    "# 8. Procesado y PCA\n",
    "scaler = StandardScaler()\n",
    "Xs = scaler.fit_transform(X)\n",
    "\n",
    "pca = PCA(n_components=min(20, Xs.shape[1]))\n",
    "Xred = pca.fit_transform(Xs)\n",
    "print(\"Reduced X shape:\", Xred.shape)"
   ]
  },
  {
   "cell_type": "code",
   "execution_count": 9,
   "id": "35dbddf7",
   "metadata": {},
   "outputs": [
    {
     "name": "stdout",
     "output_type": "stream",
     "text": [
      "iter 0, RSS=2.766124e+02\n",
      "iter 5, RSS=3.344445e+02\n",
      "iter 10, RSS=2.748465e+02\n",
      "iter 15, RSS=3.313811e+02\n",
      "iter 20, RSS=3.133795e+02\n",
      "iter 25, RSS=3.226625e+02\n",
      "iter 30, RSS=3.183131e+02\n",
      "iter 35, RSS=3.206192e+02\n",
      "iter 40, RSS=3.195095e+02\n",
      "iter 45, RSS=3.200646e+02\n",
      "iter 50, RSS=3.197902e+02\n",
      "iter 55, RSS=3.199282e+02\n",
      "iter 60, RSS=3.198591e+02\n",
      "iter 65, RSS=3.198938e+02\n",
      "iter 70, RSS=3.198764e+02\n",
      "iter 75, RSS=3.198851e+02\n",
      "iter 80, RSS=3.198807e+02\n",
      "iter 85, RSS=3.198829e+02\n",
      "iter 90, RSS=3.198818e+02\n",
      "iter 95, RSS=3.198824e+02\n",
      "iter 100, RSS=3.198821e+02\n",
      "iter 105, RSS=3.198822e+02\n",
      "iter 110, RSS=3.198822e+02\n",
      "iter 115, RSS=3.198822e+02\n",
      "iter 120, RSS=3.198822e+02\n",
      "iter 125, RSS=3.198822e+02\n",
      "iter 130, RSS=3.198822e+02\n",
      "iter 135, RSS=3.198822e+02\n",
      "Converged iter 139, RSS=3.198822e+02\n",
      "S shape (46, 4) A shape (4, 9)\n"
     ]
    }
   ],
   "source": [
    "# 9. Ejecutar AA\n",
    "K = 4 # número de arquetipos que quieres probar\n",
    "S, C, A = archetypal_analysis(Xred, K=K, max_iter=200, verbose=True)\n",
    "print(\"S shape\", S.shape, \"A shape\", A.shape)"
   ]
  },
  {
   "cell_type": "code",
   "execution_count": 10,
   "id": "7c384223",
   "metadata": {},
   "outputs": [
    {
     "data": {
      "image/png": "[encoded data removed]",
      "text/plain": [
       "<Figure size 640x480 with 1 Axes>"
      ]
     },
     "metadata": {},
     "output_type": "display_data"
    }
   ],
   "source": [
    "# 10: visualizar arquetipos (en espacio de features)\n",
    "# Si usaste PCA, los arquetipos A están en espacio PCA (K x ncomp). \n",
    "# Para ver perfiles de curva si usaste binning, reconstruye y grafica\n",
    "for k in range(K):\n",
    "  plt.plot(A[k,:], label=f\"Arquetipo {k+1}\")\n",
    "plt.legend(); plt.title(\"Arquetipos (componentes PCA / features)\"); plt.show()"
   ]
  },
  {
   "cell_type": "code",
   "execution_count": null,
   "id": "1729e85c",
   "metadata": {},
   "outputs": [],
   "source": []
  }
 ],
 "metadata": {
  "kernelspec": {
   "display_name": "Python (tesis)",
   "language": "python",
   "name": "tesis"
  },
  "language_info": {
   "codemirror_mode": {
    "name": "ipython",
    "version": 3
   },
   "file_extension": ".py",
   "mimetype": "text/x-python",
   "name": "python",
   "nbconvert_exporter": "python",
   "pygments_lexer": "ipython3",
   "version": "3.12.6"
  }
 },
 "nbformat": 4,
 "nbformat_minor": 5
}
