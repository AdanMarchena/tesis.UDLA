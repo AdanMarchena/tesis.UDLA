{
 "cells": [
  {
   "cell_type": "code",
   "execution_count": 1,
   "id": "ebca2fa5-6ae4-4a05-bc10-a3d3e8e0abd0",
   "metadata": {},
   "outputs": [],
   "source": [
    "import pyautogui\n",
    "import time\n",
    "import os\n",
    "import subprocess\n",
    "import tkinter as tk\n",
    "from tkinter import messagebox"
   ]
  },
  {
   "cell_type": "code",
   "execution_count": 2,
   "id": "65a6839a-4896-4337-8271-a416a9d1d5df",
   "metadata": {},
   "outputs": [
    {
     "data": {
      "text/plain": [
       "Point(x=549, y=293)"
      ]
     },
     "execution_count": 2,
     "metadata": {},
     "output_type": "execute_result"
    }
   ],
   "source": [
    "pyautogui.position()"
   ]
  },
  {
   "cell_type": "code",
   "execution_count": 3,
   "id": "43dcb110-6fbd-422b-af8f-49281c2315a9",
   "metadata": {},
   "outputs": [],
   "source": [
    "def descargar_estrellas():\n",
    "    # Coordenadas de los dos puntos (ejemplo, píxeles en tu pantalla)\n",
    "    punto1 = (1304, 192)   # X=500, Y=300\n",
    "    punto2 = (1304, 149)   # X=800, Y=600\n",
    "\n",
    "    # Tiempo entre clics (en segundos)\n",
    "    intervalo = 1.5 \n",
    "\n",
    "\n",
    "    # Clic en el primer punto\n",
    "    pyautogui.moveTo(punto1[0], punto1[1], duration=0.5)  # mueve con una pequeña animación\n",
    "    pyautogui.click()\n",
    "\n",
    "    # Esperar intervalo\n",
    "    time.sleep(intervalo)\n",
    "\n",
    "    # Clic en el segundo punto\n",
    "    pyautogui.moveTo(punto2[0], punto2[1], duration=0.5)\n",
    "    pyautogui.click()\n"
   ]
  },
  {
   "cell_type": "markdown",
   "id": "26491dae",
   "metadata": {},
   "source": []
  },
  {
   "cell_type": "code",
   "execution_count": 8,
   "id": "95817806-0107-4ea4-b125-e7f165fb8b98",
   "metadata": {},
   "outputs": [
    {
     "data": {
      "text/plain": [
       "'ok'"
      ]
     },
     "execution_count": 8,
     "metadata": {},
     "output_type": "execute_result"
    }
   ],
   "source": [
    "time.sleep(5)\n",
    "repeticiones = 200\n",
    "\n",
    "for i in range(repeticiones):\n",
    "    descargar_estrellas()\n",
    "\n",
    "# Cuando termina, mostrar ventana de aviso\n",
    "root = tk.Tk()\n",
    "root.withdraw()  # ocultar ventana principal\n",
    "messagebox.showinfo(\"Finalizado\", \"El script terminó todas las repeticiones.\")"
   ]
  },
  {
   "cell_type": "markdown",
   "id": "4f9dce0e",
   "metadata": {},
   "source": []
  },
  {
   "cell_type": "code",
   "execution_count": null,
   "id": "930d0d47",
   "metadata": {},
   "outputs": [],
   "source": []
  }
 ],
 "metadata": {
  "kernelspec": {
   "display_name": "Python 3",
   "language": "python",
   "name": "python3"
  },
  "language_info": {
   "codemirror_mode": {
    "name": "ipython",
    "version": 3
   },
   "file_extension": ".py",
   "mimetype": "text/x-python",
   "name": "python",
   "nbconvert_exporter": "python",
   "pygments_lexer": "ipython3",
   "version": "3.12.10"
  }
 },
 "nbformat": 4,
 "nbformat_minor": 5
}
